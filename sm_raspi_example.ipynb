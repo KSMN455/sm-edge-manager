{
 "cells": [
  {
   "cell_type": "markdown",
   "metadata": {},
   "source": [
    "# SageMaker Edge Manager Raspberry Pi Example\n"
   ]
  },
  {
   "cell_type": "markdown",
   "metadata": {},
   "source": [
    "## このサンプルの説明\n",
    "\n",
    "- [こちらのブログ]()で使用しているサンプルになります。SageMaker Edge Managerのより詳しい説明はブログをご覧ください。\n",
    "- このノートブックは[AWS公式のサンプ](https://github.com/aws/amazon-sagemaker-examples/tree/master/sagemaker_edge_manager)ルをもとに作成しています。前半のセットアップやモデルのパッケージングなどはサンプルとほぼ同じ内容です。そのため説明などを割愛しています\n",
    "- 後半のエッジデバイスでの作業は本家サンプルではEC2で実行していましたが、こちらのサンプルではRaspberry Pi 4で実行します。"
   ]
  },
  {
   "cell_type": "markdown",
   "metadata": {},
   "source": [
    "## そもそもSageMaker Edge Managerとは？\n",
    "\n",
    "SageMaker Edge Managerとは、エッジデバイスに置いておく機械学習モデルの運用管理ツールです。\n",
    "\n",
    "### これまでの課題\n",
    "\n",
    "モデルをクラウド上でトレーニングして、どこかへデプロイするというパターンはこれまでもありましたが、特にエッジデバイスへのデプロイは場所の制約やスペックの制約があったり、数が多かったりと、管理が大変でした。\n",
    "\n",
    "### SageMaker Edge Manager\n",
    "\n",
    "SageMaker Edge Managerはデバイスをフリーととして管理、モデルをパッケージ化しデプロイすることができます。"
   ]
  },
  {
   "cell_type": "markdown",
   "metadata": {},
   "source": [
    "## セットアップ"
   ]
  },
  {
   "cell_type": "markdown",
   "metadata": {},
   "source": [
    "もろもろインポートします。"
   ]
  },
  {
   "cell_type": "code",
   "execution_count": null,
   "metadata": {},
   "outputs": [],
   "source": [
    "import sagemaker\n",
    "from sagemaker import get_execution_role\n",
    "import boto3\n",
    "import botocore\n",
    "import json\n",
    "\n",
    "role = get_execution_role()\n",
    "sess = sagemaker.Session()\n",
    "region = boto3.Session().region_name"
   ]
  },
  {
   "cell_type": "code",
   "execution_count": null,
   "metadata": {},
   "outputs": [],
   "source": [
    "print(role)"
   ]
  },
  {
   "cell_type": "markdown",
   "metadata": {},
   "source": [
    "上記で出力されたロールに以下のポリシーをアタッチしてください。AWS IoTの作業で必要となります。\n",
    "\n",
    "- AWSIoTFullAccess "
   ]
  },
  {
   "cell_type": "code",
   "execution_count": null,
   "metadata": {},
   "outputs": [],
   "source": [
    "#フォルダ名はいい感じにしてください\n",
    "bucket = sess.default_bucket() \n",
    "folder = 'DEMO-Sagemaker-Edge'\n",
    "compilation_output_sub_folder = folder + '/compilation-output'\n",
    "iot_folder = folder + '/iot'\n",
    "s3_compilation_output_location = 's3://{}/{}'.format(bucket, compilation_output_sub_folder)"
   ]
  },
  {
   "cell_type": "markdown",
   "metadata": {},
   "source": [
    "ファイルをアップロード"
   ]
  },
  {
   "cell_type": "code",
   "execution_count": null,
   "metadata": {},
   "outputs": [],
   "source": [
    "darknet_img_path = sess.upload_data('darknet.bmp', bucket, iot_folder)\n",
    "keras_img_path = sess.upload_data('keras.bmp', bucket, iot_folder)"
   ]
  },
  {
   "cell_type": "markdown",
   "metadata": {},
   "source": [
    "## SageMaker Neoでモデルのコンパイル\n",
    "\n",
    "SageMaker Neoは各ハードウェア向けにモデルを最適化する機能です。Edge Managerでパッケージ化してデプロイする前に、使用するデバイス向けにコンパイルしましょう。"
   ]
  },
  {
   "cell_type": "code",
   "execution_count": null,
   "metadata": {},
   "outputs": [],
   "source": [
    "sagemaker_client = boto3.client('sagemaker', region_name=region)"
   ]
  },
  {
   "cell_type": "markdown",
   "metadata": {},
   "source": [
    "### モデルのコンパイル\n",
    "DarknetとKerasのモデルをコンパイルします。ちなみにモデルはDarknetが物体検出のモデルで、Kerasが画像分類のモデルです。"
   ]
  },
  {
   "cell_type": "markdown",
   "metadata": {},
   "source": [
    "#### Darknetのモデルをダウンロード"
   ]
  },
  {
   "cell_type": "code",
   "execution_count": null,
   "metadata": {},
   "outputs": [],
   "source": [
    "!wget -O yolov3-tiny.cfg https://github.com/pjreddie/darknet/blob/master/cfg/yolov3-tiny.cfg?raw=true\n",
    "!wget https://pjreddie.com/media/files/yolov3-tiny.weights"
   ]
  },
  {
   "cell_type": "code",
   "execution_count": null,
   "metadata": {},
   "outputs": [],
   "source": [
    "import tarfile\n",
    "\n",
    "with tarfile.open('yolov3-tiny.tar.gz', mode='w:gz') as archive:\n",
    "    archive.add('yolov3-tiny.cfg')\n",
    "    archive.add('yolov3-tiny.weights')"
   ]
  },
  {
   "cell_type": "code",
   "execution_count": null,
   "metadata": {},
   "outputs": [],
   "source": [
    "darknet_model_path = sess.upload_data('yolov3-tiny.tar.gz', bucket, folder)"
   ]
  },
  {
   "cell_type": "code",
   "execution_count": null,
   "metadata": {},
   "outputs": [],
   "source": [
    "darknet_model_data_shape = '{\"data\":[1,3,416,416]}'\n",
    "darknet_model_framework = 'darknet'\n",
    "target_device = 'ml_c5'"
   ]
  },
  {
   "cell_type": "code",
   "execution_count": null,
   "metadata": {},
   "outputs": [],
   "source": [
    "import time\n",
    "darknet_compilation_job_name = 'Sagemaker-Edge-'+ str(time.time()).split('.')[0]\n",
    "print('Compilation job for %s started' % darknet_compilation_job_name)\n",
    "\n",
    "response = sagemaker_client.create_compilation_job(\n",
    "        CompilationJobName=darknet_compilation_job_name,\n",
    "        RoleArn=role,\n",
    "        InputConfig={\n",
    "            'S3Uri': darknet_model_path,\n",
    "            'DataInputConfig': darknet_model_data_shape,\n",
    "            'Framework': darknet_model_framework.upper()\n",
    "        },\n",
    "        OutputConfig={\n",
    "            'S3OutputLocation': s3_compilation_output_location,\n",
    "            'TargetDevice': target_device \n",
    "        },\n",
    "        StoppingCondition={\n",
    "            'MaxRuntimeInSeconds': 900\n",
    "        }\n",
    "    )\n",
    "\n",
    "print(response)\n",
    "\n",
    "# Poll every 30 sec\n",
    "while True:\n",
    "    response = sagemaker_client.describe_compilation_job(CompilationJobName=darknet_compilation_job_name)\n",
    "    if response['CompilationJobStatus'] == 'COMPLETED':\n",
    "        break\n",
    "    elif response['CompilationJobStatus'] == 'FAILED':\n",
    "        raise RuntimeError('Compilation failed')\n",
    "    print('Compiling ...')\n",
    "    time.sleep(30)\n",
    "print('Done!')"
   ]
  },
  {
   "cell_type": "markdown",
   "metadata": {},
   "source": [
    "#### Kerasのモデルをダウンロード"
   ]
  },
  {
   "cell_type": "code",
   "execution_count": null,
   "metadata": {},
   "outputs": [],
   "source": [
    "import tensorflow as tf\n",
    "\n",
    "model = tf.keras.applications.MobileNetV2()\n",
    "model.save('mobilenet_v2.h5')"
   ]
  },
  {
   "cell_type": "code",
   "execution_count": null,
   "metadata": {},
   "outputs": [],
   "source": [
    "import tarfile\n",
    "\n",
    "with tarfile.open('mobilenet_v2.tar.gz', mode='w:gz') as archive:\n",
    "    archive.add('mobilenet_v2.h5')"
   ]
  },
  {
   "cell_type": "code",
   "execution_count": null,
   "metadata": {},
   "outputs": [],
   "source": [
    "keras_model_path = sess.upload_data('mobilenet_v2.tar.gz', bucket, folder)"
   ]
  },
  {
   "cell_type": "code",
   "execution_count": null,
   "metadata": {},
   "outputs": [],
   "source": [
    "keras_model_data_shape = '{\"input_1\":[1,3,224,224]}'\n",
    "keras_model_framework = 'keras'\n",
    "target_device = 'ml_c5'"
   ]
  },
  {
   "cell_type": "code",
   "execution_count": null,
   "metadata": {},
   "outputs": [],
   "source": [
    "import time\n",
    "keras_compilation_job_name = 'Sagemaker-Edge-'+ str(time.time()).split('.')[0]\n",
    "print('Compilation job for %s started' % keras_compilation_job_name)\n",
    "\n",
    "response = sagemaker_client.create_compilation_job(\n",
    "        CompilationJobName=keras_compilation_job_name,\n",
    "        RoleArn=role,\n",
    "        InputConfig={\n",
    "            'S3Uri': keras_model_path,\n",
    "            'DataInputConfig': keras_model_data_shape,\n",
    "            'Framework': keras_model_framework.upper()\n",
    "        },\n",
    "        OutputConfig={\n",
    "            'S3OutputLocation': s3_compilation_output_location,\n",
    "            'TargetDevice': target_device \n",
    "        },\n",
    "        StoppingCondition={\n",
    "            'MaxRuntimeInSeconds': 900\n",
    "        }\n",
    "    )\n",
    "\n",
    "print(response)\n",
    "\n",
    "# Poll every 30 sec\n",
    "while True:\n",
    "    response = sagemaker_client.describe_compilation_job(CompilationJobName=keras_compilation_job_name)\n",
    "    if response['CompilationJobStatus'] == 'COMPLETED':\n",
    "        break\n",
    "    elif response['CompilationJobStatus'] == 'FAILED':\n",
    "        raise RuntimeError('Compilation failed')\n",
    "    print('Compiling ...')\n",
    "    time.sleep(30)\n",
    "print('Done!')"
   ]
  },
  {
   "cell_type": "markdown",
   "metadata": {},
   "source": [
    "## Sagemaker Edge Managerでパッケージ化\n",
    "\n"
   ]
  },
  {
   "cell_type": "markdown",
   "metadata": {},
   "source": [
    "### Darknetのモデルのパッケージ化"
   ]
  },
  {
   "cell_type": "code",
   "execution_count": null,
   "metadata": {},
   "outputs": [],
   "source": [
    "darknet_packaged_model_name = \"darknet-model\"\n",
    "darknet_model_version = \"1.0\"\n",
    "darknet_model_package = '{}-{}.tar.gz'.format(darknet_packaged_model_name, darknet_model_version)"
   ]
  },
  {
   "cell_type": "code",
   "execution_count": null,
   "metadata": {},
   "outputs": [],
   "source": [
    "darknet_packaging_job_name=darknet_compilation_job_name+\"-packaging\"\n",
    "response = sagemaker_client.create_edge_packaging_job(\n",
    "    RoleArn=role,\n",
    "    OutputConfig={\n",
    "        'S3OutputLocation': s3_compilation_output_location,\n",
    "    },\n",
    "    ModelName=darknet_packaged_model_name,\n",
    "    ModelVersion=darknet_model_version,\n",
    "    EdgePackagingJobName=darknet_packaging_job_name,\n",
    "    CompilationJobName=darknet_compilation_job_name,\n",
    ")\n",
    "\n",
    "print(response)\n",
    "\n",
    "# Poll every 30 sec\n",
    "while True:\n",
    "    job_status = sagemaker_client.describe_edge_packaging_job(EdgePackagingJobName=darknet_packaging_job_name)\n",
    "    if job_status['EdgePackagingJobStatus'] == 'COMPLETED':\n",
    "        break\n",
    "    elif job_status['EdgePackagingJobStatus'] == 'FAILED':\n",
    "        raise RuntimeError('Edge Packaging failed')\n",
    "    print('Packaging ...')\n",
    "    time.sleep(30)\n",
    "print('Done!')"
   ]
  },
  {
   "cell_type": "code",
   "execution_count": null,
   "metadata": {},
   "outputs": [],
   "source": [
    "darknet_model_data = job_status[\"ModelArtifact\"]"
   ]
  },
  {
   "cell_type": "markdown",
   "metadata": {},
   "source": [
    "### Kerasのモデルのパッケージ化"
   ]
  },
  {
   "cell_type": "code",
   "execution_count": null,
   "metadata": {},
   "outputs": [],
   "source": [
    "keras_packaged_model_name = \"keras-model\"\n",
    "keras_model_version = \"1.0\"\n",
    "keras_model_package = '{}-{}.tar.gz'.format(keras_packaged_model_name, keras_model_version)"
   ]
  },
  {
   "cell_type": "code",
   "execution_count": null,
   "metadata": {},
   "outputs": [],
   "source": [
    "keras_packaging_job_name=keras_compilation_job_name+\"-packaging\"\n",
    "response = sagemaker_client.create_edge_packaging_job(\n",
    "    RoleArn=role,\n",
    "    OutputConfig={\n",
    "        'S3OutputLocation': s3_compilation_output_location,\n",
    "    },\n",
    "    ModelName=keras_packaged_model_name,\n",
    "    ModelVersion=keras_model_version,\n",
    "    EdgePackagingJobName=keras_packaging_job_name,\n",
    "    CompilationJobName=keras_compilation_job_name,\n",
    ")\n",
    "\n",
    "print(response)\n",
    "\n",
    "# Poll every 30 sec\n",
    "while True:\n",
    "    job_status = sagemaker_client.describe_edge_packaging_job(EdgePackagingJobName=keras_packaging_job_name)\n",
    "    if job_status['EdgePackagingJobStatus'] == 'COMPLETED':\n",
    "        break\n",
    "    elif job_status['EdgePackagingJobStatus'] == 'FAILED':\n",
    "        raise RuntimeError('Edge Packaging failed')\n",
    "    print('Packaging ...')\n",
    "    time.sleep(30)\n",
    "print('Done!')"
   ]
  },
  {
   "cell_type": "code",
   "execution_count": null,
   "metadata": {},
   "outputs": [],
   "source": [
    "keras_model_data = job_status[\"ModelArtifact\"]"
   ]
  },
  {
   "cell_type": "markdown",
   "metadata": {},
   "source": [
    "### AWS IoTで \"モノ\" を作成\n",
    "\n",
    "SageMaker Edge Managerは、AWS IoT Coreを使ってデバイスの認証してEdge Managerのエンドポイントを呼び出します。 \n"
   ]
  },
  {
   "cell_type": "code",
   "execution_count": null,
   "metadata": {},
   "outputs": [],
   "source": [
    "iot_client = boto3.client('iot', region_name=region)"
   ]
  },
  {
   "cell_type": "code",
   "execution_count": null,
   "metadata": {},
   "outputs": [],
   "source": [
    "iot_thing_name = 'sm-edge-thing-raspi'\n",
    "iot_thing_type = 'SagemakerEdgeSample'"
   ]
  },
  {
   "cell_type": "code",
   "execution_count": null,
   "metadata": {},
   "outputs": [],
   "source": [
    "iot_client.create_thing_type(\n",
    "    thingTypeName=iot_thing_type\n",
    ")"
   ]
  },
  {
   "cell_type": "code",
   "execution_count": null,
   "metadata": {},
   "outputs": [],
   "source": [
    "iot_client.create_thing(\n",
    "    thingName=iot_thing_name,\n",
    "    thingTypeName=iot_thing_type\n",
    ")"
   ]
  },
  {
   "cell_type": "markdown",
   "metadata": {},
   "source": [
    "### フリートの作成\n",
    "\n",
    "デバイスフリートとはEdge Manager上でのデバイスのグループのようなもの"
   ]
  },
  {
   "cell_type": "markdown",
   "metadata": {},
   "source": [
    "#### フリート用のIAMロール作成"
   ]
  },
  {
   "cell_type": "markdown",
   "metadata": {},
   "source": [
    "フリートごとにIAMロールをアタッチする必要がある。\n",
    "\n",
    "ポリシーは以下をアタッチ。\n",
    "\n",
    "- AmazonSageMakerEdgeDeviceFleetPolicy\n",
    "- AmazonSageMakerFullAccess\n",
    "- AmazonS3FullAccess \n",
    "- AWSIoTFullAccess \n",
    "\n",
    "信頼関係は以下。\n",
    "```\n",
    "{\n",
    "  \"Version\": \"2012-10-17\",\n",
    "  \"Statement\": [\n",
    "      {\n",
    "        \"Effect\": \"Allow\",\n",
    "        \"Principal\": {\"Service\": \"credentials.iot.amazonaws.com\"},\n",
    "        \"Action\": \"sts:AssumeRole\"\n",
    "      },\n",
    "      {\n",
    "        \"Effect\": \"Allow\",\n",
    "        \"Principal\": {\"Service\": \"sagemaker.amazonaws.com\"},\n",
    "        \"Action\": \"sts:AssumeRole\"\n",
    "      }\n",
    "  ]\n",
    "}\n",
    "```\n",
    "\n"
   ]
  },
  {
   "cell_type": "code",
   "execution_count": null,
   "metadata": {},
   "outputs": [],
   "source": [
    "device_fleet_name =\"sample-device-fleet\"\n",
    "\n",
    "sagemaker_client.create_device_fleet(\n",
    "    DeviceFleetName=device_fleet_name,\n",
    "    RoleArn='arn:aws:iam::119463424712:role/{上記で作成したロール名}',\n",
    "    OutputConfig={\n",
    "        'S3OutputLocation': s3_compilation_output_location\n",
    "    }\n",
    ")"
   ]
  },
  {
   "cell_type": "markdown",
   "metadata": {},
   "source": [
    "#### デバイスをフリートに登録\n",
    "\n",
    "デバイスをAWS IoT \"モノ\" と紐づけて、フリートへ登録します。"
   ]
  },
  {
   "cell_type": "code",
   "execution_count": null,
   "metadata": {},
   "outputs": [],
   "source": [
    "device_name = \"raspi-01\" # device name should be 36 charactors\n",
    "\n",
    "sagemaker_client.register_devices(\n",
    "    DeviceFleetName=device_fleet_name,\n",
    "    Devices=[\n",
    "        {          \n",
    "            \"DeviceName\": device_name,\n",
    "            \"IotThingName\": iot_thing_name,\n",
    "            \"Description\": \"this is a sample raspi\"\n",
    "        }\n",
    "    ]\n",
    ")"
   ]
  },
  {
   "cell_type": "markdown",
   "metadata": {},
   "source": [
    "### AWS IoTで証明書の作成"
   ]
  },
  {
   "cell_type": "code",
   "execution_count": null,
   "metadata": {},
   "outputs": [],
   "source": [
    "iot_cert = iot_client.create_keys_and_certificate(\n",
    "    setAsActive=True\n",
    ")"
   ]
  },
  {
   "cell_type": "markdown",
   "metadata": {},
   "source": [
    "Save the files and upload to S3 bucket, these files will be used to provide credentials on device to communicate with aws services."
   ]
  },
  {
   "cell_type": "code",
   "execution_count": null,
   "metadata": {},
   "outputs": [],
   "source": [
    "with open('./iot.pem.crt', 'w') as f:\n",
    "    for line in iot_cert['certificatePem'].split('\\n'):\n",
    "        f.write(line)\n",
    "        f.write('\\n')"
   ]
  },
  {
   "cell_type": "code",
   "execution_count": null,
   "metadata": {},
   "outputs": [],
   "source": [
    "with open('./iot_key.pem.key', 'w') as f:\n",
    "    for line in iot_cert['keyPair']['PrivateKey'].split('\\n'):\n",
    "        f.write(line)\n",
    "        f.write('\\n')"
   ]
  },
  {
   "cell_type": "code",
   "execution_count": null,
   "metadata": {},
   "outputs": [],
   "source": [
    "with open('./iot_key_pair.pem.key', 'w') as f:\n",
    "    for line in iot_cert['keyPair']['PublicKey'].split('\\n'):\n",
    "        f.write(line)\n",
    "        f.write('\\n')"
   ]
  },
  {
   "cell_type": "markdown",
   "metadata": {},
   "source": [
    "AWS IoT \"モノ\" がAWSリソースへアクセスするためにロールエイリアスが必要ですが、Edge Manager側でフリートを作成すると `SageMakerEdge-{フリート名}` でAWS IoTにロールエイリアスが作成される。"
   ]
  },
  {
   "cell_type": "code",
   "execution_count": null,
   "metadata": {},
   "outputs": [],
   "source": [
    "role_alias_name = 'SageMakerEdge-' + device_fleet_name\n",
    "\n",
    "role_alias = iot_client.describe_role_alias\n",
    "(\n",
    "    roleAlias=role_alias_name\n",
    ")"
   ]
  },
  {
   "cell_type": "markdown",
   "metadata": {},
   "source": [
    "このロールエイリアスを引き受けられるよう、証明書にポリシーを設定します。"
   ]
  },
  {
   "cell_type": "code",
   "execution_count": null,
   "metadata": {},
   "outputs": [],
   "source": [
    "alias_policy = {\n",
    "  \"Version\": \"2012-10-17\",\n",
    "  \"Statement\": {\n",
    "    \"Effect\": \"Allow\",\n",
    "    \"Action\": \"iot:AssumeRoleWithCertificate\",\n",
    "    \"Resource\": role_alias['roleAliasDescription']['roleAliasArn']\n",
    "  }\n",
    "}"
   ]
  },
  {
   "cell_type": "code",
   "execution_count": null,
   "metadata": {},
   "outputs": [],
   "source": [
    "aliaspolicy = iot_client.create_policy(\n",
    "    policyName='aliaspolicy',\n",
    "    policyDocument=json.dumps(alias_policy),\n",
    ")"
   ]
  },
  {
   "cell_type": "code",
   "execution_count": null,
   "metadata": {},
   "outputs": [],
   "source": [
    "iot_client.attach_policy(\n",
    "    policyName='aliaspolicy',\n",
    "    target=iot_cert['certificateArn']\n",
    ")"
   ]
  },
  {
   "cell_type": "markdown",
   "metadata": {},
   "source": [
    "AWS IoTのエンドポイントを取得。"
   ]
  },
  {
   "cell_type": "code",
   "execution_count": null,
   "metadata": {},
   "outputs": [],
   "source": [
    "iot_endpoint = iot_client.describe_endpoint(\n",
    "    endpointType='iot:CredentialProvider'\n",
    ")"
   ]
  },
  {
   "cell_type": "code",
   "execution_count": null,
   "metadata": {},
   "outputs": [],
   "source": [
    "endpoint = \"https://{}/role-aliases/{}/credentials\".format(iot_endpoint['endpointAddress'], role_alias_name)"
   ]
  },
  {
   "cell_type": "markdown",
   "metadata": {},
   "source": [
    "AWS公式のルートCAを入手。"
   ]
  },
  {
   "cell_type": "code",
   "execution_count": null,
   "metadata": {},
   "outputs": [],
   "source": [
    "!wget https://www.amazontrust.com/repository/AmazonRootCA1.pem"
   ]
  },
  {
   "cell_type": "markdown",
   "metadata": {},
   "source": [
    "## ラズパイで推論実行"
   ]
  },
  {
   "cell_type": "markdown",
   "metadata": {},
   "source": [
    "ここからはラズベリーパイ4で実行する手順です。ラズパイにログインして実行してください。\n",
    "\n",
    "このサンプル作成時には以下の環境で作成しています。\n",
    "\n",
    "- Raspberry Pi 4B (8GB)\n",
    "- OS: Raspberry Pi OS Lite"
   ]
  },
  {
   "cell_type": "code",
   "execution_count": null,
   "metadata": {},
   "outputs": [],
   "source": [
    "ssm_client.send_command(\n",
    "    InstanceIds=[instance_id],\n",
    "    DocumentName=\"AWS-RunShellScript\",\n",
    "    OutputS3BucketName=bucket,\n",
    "    OutputS3KeyPrefix=folder,\n",
    "    Parameters={\n",
    "        'commands':[\n",
    "            \"#!/bin/bash\",\n",
    "            \"mkdir /demo\",\n",
    "            \"aws s3 cp s3://sagemaker-edge-release-store-us-west-2-linux-x64/Releases/\" + version + \"/\" + version + \".tgz demo.tgz\",\n",
    "            \"tar -xf demo.tgz -C /demo\",\n",
    "            \"cd /demo/bin\",\n",
    "            \"chmod +x sagemaker_edge_agent_binary\",\n",
    "            \"chmod +x sagemaker_edge_agent_client_example\"\n",
    "        ]\n",
    "    }\n",
    ")"
   ]
  },
  {
   "cell_type": "markdown",
   "metadata": {},
   "source": [
    "Get model signing root certificates from release bucket."
   ]
  },
  {
   "cell_type": "code",
   "execution_count": null,
   "metadata": {},
   "outputs": [],
   "source": [
    "ssm_client.send_command(\n",
    "    InstanceIds=[instance_id],\n",
    "    DocumentName=\"AWS-RunShellScript\",\n",
    "    OutputS3BucketName=bucket,\n",
    "    OutputS3KeyPrefix=folder,\n",
    "    Parameters={\n",
    "        'commands':[\n",
    "            \"#!/bin/bash\",\n",
    "            \"cd /demo\",\n",
    "            \"mkdir certificates\",\n",
    "            \"aws s3 cp s3://sagemaker-edge-release-store-us-west-2-linux-x64/Certificates/\" + region + \"/\" + region + \".pem certificates\"\n",
    "        ]\n",
    "    }\n",
    ")"
   ]
  },
  {
   "cell_type": "markdown",
   "metadata": {},
   "source": [
    "Download IoT certificates and private key to EC2 instance. Download models and test images to EC2 instance."
   ]
  },
  {
   "cell_type": "code",
   "execution_count": null,
   "metadata": {},
   "outputs": [],
   "source": [
    "ssm_client.send_command(\n",
    "    InstanceIds=[instance_id],\n",
    "    DocumentName=\"AWS-RunShellScript\",\n",
    "    OutputS3BucketName=bucket,\n",
    "    OutputS3KeyPrefix=folder,\n",
    "    Parameters={\n",
    "        'commands':[\n",
    "            \"#!/bin/bash\",\n",
    "            \"cd /demo\",\n",
    "            \"mkdir iot-credentials\",\n",
    "            \"cd iot-credentials\",\n",
    "            \"aws s3 cp \" + root_ca_path + \" .\",  \n",
    "            \"aws s3 cp \" + device_cert_path + \" .\",\n",
    "            \"aws s3 cp \" + device_key_path + \" .\",\n",
    "            \"cd /demo\",\n",
    "            \"aws s3 cp \" + darknet_img_path + \" .\",\n",
    "            \"aws s3 cp \" + darknet_model_data + \" .\",\n",
    "            \"mkdir darknet_model\",\n",
    "            \"tar -xf \" + darknet_model_package + \" -C darknet_model\",\n",
    "            \"aws s3 cp \" + keras_img_path + \" .\",\n",
    "            \"aws s3 cp \" + keras_model_data + \" .\",\n",
    "            \"mkdir keras_model\",\n",
    "            \"tar -xf \" + keras_model_package + \" -C keras_model\"\n",
    "        ]\n",
    "    }\n",
    ")"
   ]
  },
  {
   "cell_type": "markdown",
   "metadata": {},
   "source": [
    "#### Configure sagemaker edge manager agent\n",
    "\n",
    "Generate sagemaker edge agent configuration file. "
   ]
  },
  {
   "cell_type": "code",
   "execution_count": null,
   "metadata": {},
   "outputs": [],
   "source": [
    "sagemaker_edge_config = {\n",
    "    \"sagemaker_edge_core_device_uuid\": device_name,\n",
    "    \"sagemaker_edge_core_device_fleet_name\": device_fleet_name,\n",
    "    \"sagemaker_edge_core_capture_data_buffer_size\": 30,\n",
    "    \"sagemaker_edge_core_capture_data_batch_size\": 10,\n",
    "    \"sagemaker_edge_core_capture_data_push_period_seconds\": 4,\n",
    "    \"sagemaker_edge_core_folder_prefix\": \"demo_capture\",\n",
    "    \"sagemaker_edge_core_region\": region,\n",
    "    \"sagemaker_edge_core_root_certs_path\": \"/demo/certificates\",\n",
    "    \"sagemaker_edge_provider_aws_ca_cert_file\": \"/demo/iot-credentials/AmazonRootCA1.pem\",\n",
    "    \"sagemaker_edge_provider_aws_cert_file\": \"/demo/iot-credentials/iot.pem.crt\",\n",
    "    \"sagemaker_edge_provider_aws_cert_pk_file\": \"/demo/iot-credentials/iot_key.pem.key\",\n",
    "    \"sagemaker_edge_provider_aws_iot_cred_endpoint\": endpoint,\n",
    "    \"sagemaker_edge_provider_provider\": \"Aws\",\n",
    "    \"sagemaker_edge_provider_s3_bucket_name\": bucket,\n",
    "    \"sagemaker_edge_core_capture_data_destination\": \"Cloud\"\n",
    "}"
   ]
  },
  {
   "cell_type": "code",
   "execution_count": null,
   "metadata": {},
   "outputs": [],
   "source": [
    "edge_config_file = open(\"sagemaker_edge_config.json\", \"w\")\n",
    "json.dump(sagemaker_edge_config, edge_config_file, indent = 6)\n",
    "edge_config_file.close()"
   ]
  },
  {
   "cell_type": "markdown",
   "metadata": {},
   "source": [
    "Upload sagemaker edge agent configure to S3 bucket."
   ]
  },
  {
   "cell_type": "code",
   "execution_count": null,
   "metadata": {},
   "outputs": [],
   "source": [
    "config_path = sess.upload_data('sagemaker_edge_config.json', bucket, iot_folder)"
   ]
  },
  {
   "cell_type": "markdown",
   "metadata": {},
   "source": [
    "Download sagemaker edge agent configure file to EC2 instance."
   ]
  },
  {
   "cell_type": "code",
   "execution_count": null,
   "metadata": {},
   "outputs": [],
   "source": [
    "ssm_client.send_command(\n",
    "    InstanceIds=[instance_id],\n",
    "    DocumentName=\"AWS-RunShellScript\",\n",
    "    OutputS3BucketName=bucket,\n",
    "    OutputS3KeyPrefix=folder,\n",
    "    Parameters={\n",
    "        'commands':[\n",
    "            \"#!/bin/bash\",\n",
    "            \"aws s3 cp \" + config_path + ' /demo'\n",
    "        ]\n",
    "    }\n",
    ")"
   ]
  },
  {
   "cell_type": "markdown",
   "metadata": {},
   "source": [
    "#### Launch Sagemaker Edge Agent"
   ]
  },
  {
   "cell_type": "code",
   "execution_count": null,
   "metadata": {},
   "outputs": [],
   "source": [
    "agent_out = ssm_client.send_command(\n",
    "    InstanceIds=[instance_id],\n",
    "    DocumentName=\"AWS-RunShellScript\",\n",
    "    OutputS3BucketName=bucket,\n",
    "    OutputS3KeyPrefix=folder,\n",
    "    Parameters={\n",
    "        'commands':[\n",
    "            \"cd /demo\",\n",
    "            \"rm -f /tmp/sagemaker_edge_agent_example.sock\",\n",
    "            \"./bin/sagemaker_edge_agent_binary -a /tmp/sagemaker_edge_agent_example.sock -c sagemaker_edge_config.json\" \n",
    "        ]\n",
    "    }\n",
    ")"
   ]
  },
  {
   "cell_type": "code",
   "execution_count": null,
   "metadata": {},
   "outputs": [],
   "source": [
    "ssm_client.get_command_invocation(\n",
    "    CommandId=agent_out['Command']['CommandId'],\n",
    "    InstanceId=instance_id,\n",
    ")"
   ]
  },
  {
   "cell_type": "markdown",
   "metadata": {},
   "source": [
    "### Load Model\n",
    "\n",
    "In this section, we show the model management capabilities offered by SageMaker Edge Manager. We will load the two compiled and packaged models with the SageMaker Edge Agent. This keeps both models ready to run inference with. As you will see, once the models are loaded you can run multiple inferences as many times as necessary until the models are unloaded. This relieves the client applications from the logic and operational burden of managing them separately. These models are now simply an API away from running inference with.\n",
    "\n",
    "When loading the model with SageMaker Edge Agent, the argument to the API points the Agent to a directory containing the packaged model (without any extraneous files within the directory). "
   ]
  },
  {
   "cell_type": "markdown",
   "metadata": {},
   "source": [
    "#### Load darknet model\n",
    "\n",
    "`darknet_model` is the path containing the packaged model in this notebook. `demo-darknet` is the name given to this model. This name will be used later to refer to this model for, making predictions, capturing data, unload."
   ]
  },
  {
   "cell_type": "code",
   "execution_count": null,
   "metadata": {},
   "outputs": [],
   "source": [
    "load_darknet_model_out = ssm_client.send_command(\n",
    "    InstanceIds=[instance_id],\n",
    "    DocumentName=\"AWS-RunShellScript\",\n",
    "    OutputS3BucketName=bucket,\n",
    "    OutputS3KeyPrefix=folder,\n",
    "    Parameters={\n",
    "        'commands':[\n",
    "            \"cd /demo\",\n",
    "            \"./bin/sagemaker_edge_agent_client_example LoadModel darknet_model demo-darknet\"\n",
    "        ]\n",
    "    }\n",
    ")"
   ]
  },
  {
   "cell_type": "code",
   "execution_count": null,
   "metadata": {},
   "outputs": [],
   "source": [
    "ssm_client.get_command_invocation(\n",
    "    CommandId=load_darknet_model_out['Command']['CommandId'],\n",
    "    InstanceId=instance_id,\n",
    ")"
   ]
  },
  {
   "cell_type": "markdown",
   "metadata": {},
   "source": [
    "#### Load keras model\n",
    "\n",
    "`keras_model` is the path containing the packaged model in this notebook. `demo-keras` is the name given to this model. This name will be used later to refer to this model for, making predictions, capturing data, unload."
   ]
  },
  {
   "cell_type": "code",
   "execution_count": null,
   "metadata": {},
   "outputs": [],
   "source": [
    "load_keras_model_out = ssm_client.send_command(\n",
    "    InstanceIds=[instance_id],\n",
    "    DocumentName=\"AWS-RunShellScript\",\n",
    "    OutputS3BucketName=bucket,\n",
    "    OutputS3KeyPrefix=folder,\n",
    "    Parameters={\n",
    "        'commands':[\n",
    "            \"cd /demo\",\n",
    "            \"./bin/sagemaker_edge_agent_client_example LoadModel keras_model demo-keras\"\n",
    "        ]\n",
    "    }\n",
    ")"
   ]
  },
  {
   "cell_type": "code",
   "execution_count": null,
   "metadata": {},
   "outputs": [],
   "source": [
    "ssm_client.get_command_invocation(\n",
    "    CommandId=load_keras_model_out['Command']['CommandId'],\n",
    "    InstanceId=instance_id,\n",
    ")"
   ]
  },
  {
   "cell_type": "markdown",
   "metadata": {},
   "source": [
    "### List Models\n",
    "\n",
    "This API simply lists all the models and their names that are loaded with SageMaker Edge Agent. Note that the names shown here are same as the ones provided during the LoadModel in the previous sections."
   ]
  },
  {
   "cell_type": "code",
   "execution_count": null,
   "metadata": {},
   "outputs": [],
   "source": [
    "list_model_out = ssm_client.send_command(\n",
    "    InstanceIds=[instance_id],\n",
    "    DocumentName=\"AWS-RunShellScript\",\n",
    "    OutputS3BucketName=bucket,\n",
    "    OutputS3KeyPrefix=folder,\n",
    "    Parameters={\n",
    "        'commands':[\n",
    "            \"cd /demo\",\n",
    "            \"./bin/sagemaker_edge_agent_client_example ListModels\"\n",
    "        ]\n",
    "    }\n",
    ")"
   ]
  },
  {
   "cell_type": "code",
   "execution_count": null,
   "metadata": {},
   "outputs": [],
   "source": [
    "ssm_client.get_command_invocation(\n",
    "    CommandId=list_model_out['Command']['CommandId'],\n",
    "    InstanceId=instance_id,\n",
    ")"
   ]
  },
  {
   "cell_type": "markdown",
   "metadata": {},
   "source": [
    "### Run Predict\n",
    "\n",
    "In this API, we pass the model name, input data file that will be directly fed into the neural network, input tensor name that was passed earlier during the compilation phase, along with it's size and shape."
   ]
  },
  {
   "cell_type": "markdown",
   "metadata": {},
   "source": [
    "#### Run prediction on darknet model"
   ]
  },
  {
   "cell_type": "code",
   "execution_count": null,
   "metadata": {},
   "outputs": [],
   "source": [
    "darknet_predict_out = ssm_client.send_command(\n",
    "    InstanceIds=[instance_id],\n",
    "    DocumentName=\"AWS-RunShellScript\",\n",
    "    OutputS3BucketName=bucket,\n",
    "    OutputS3KeyPrefix=folder,\n",
    "    Parameters={\n",
    "        'commands':[\n",
    "            \"cd /demo\",\n",
    "            \"./bin/sagemaker_edge_agent_client_example Predict demo-darknet darknet.bmp data 416 416 3\"\n",
    "        ]\n",
    "    }\n",
    ")"
   ]
  },
  {
   "cell_type": "code",
   "execution_count": null,
   "metadata": {},
   "outputs": [],
   "source": [
    "ssm_client.get_command_invocation(\n",
    "    CommandId=darknet_predict_out['Command']['CommandId'],\n",
    "    InstanceId=instance_id,\n",
    ")"
   ]
  },
  {
   "cell_type": "markdown",
   "metadata": {},
   "source": [
    "#### Run prediction on keras model"
   ]
  },
  {
   "cell_type": "code",
   "execution_count": null,
   "metadata": {},
   "outputs": [],
   "source": [
    "keras_predict_out = ssm_client.send_command(\n",
    "    InstanceIds=[instance_id],\n",
    "    DocumentName=\"AWS-RunShellScript\",\n",
    "    OutputS3BucketName=bucket,\n",
    "    OutputS3KeyPrefix=folder,\n",
    "    Parameters={\n",
    "        'commands':[\n",
    "            \"cd /demo\",\n",
    "            \"./bin/sagemaker_edge_agent_client_example Predict demo-keras keras.bmp input_1 224 224 3\"\n",
    "        ]\n",
    "    }\n",
    ")"
   ]
  },
  {
   "cell_type": "code",
   "execution_count": null,
   "metadata": {},
   "outputs": [],
   "source": [
    "ssm_client.get_command_invocation(\n",
    "    CommandId=keras_predict_out['Command']['CommandId'],\n",
    "    InstanceId=instance_id,\n",
    ")"
   ]
  },
  {
   "cell_type": "markdown",
   "metadata": {},
   "source": [
    "### Capture Data\n",
    "\n",
    "Capture the inputs and outputs of an inference call to cloud or disk. The specific parameters were configured earlier in the config file. "
   ]
  },
  {
   "cell_type": "code",
   "execution_count": null,
   "metadata": {},
   "outputs": [],
   "source": [
    "darknet_capture_out = ssm_client.send_command(\n",
    "    InstanceIds=[instance_id],\n",
    "    DocumentName=\"AWS-RunShellScript\",\n",
    "    OutputS3BucketName=bucket,\n",
    "    OutputS3KeyPrefix=folder,\n",
    "    Parameters={\n",
    "        'commands':[\n",
    "            \"cd /demo\",\n",
    "            \"./bin/sagemaker_edge_agent_client_example PredictAndCapture demo-darknet darknet.bmp data 416 416 3\"\n",
    "        ]\n",
    "    }\n",
    ")"
   ]
  },
  {
   "cell_type": "code",
   "execution_count": null,
   "metadata": {},
   "outputs": [],
   "source": [
    "ssm_client.get_command_invocation(\n",
    "    CommandId=darknet_capture_out['Command']['CommandId'],\n",
    "    InstanceId=instance_id,\n",
    ")"
   ]
  },
  {
   "cell_type": "code",
   "execution_count": null,
   "metadata": {},
   "outputs": [],
   "source": [
    "keras_capture_out = ssm_client.send_command(\n",
    "    InstanceIds=[instance_id],\n",
    "    DocumentName=\"AWS-RunShellScript\",\n",
    "    OutputS3BucketName=bucket,\n",
    "    OutputS3KeyPrefix=folder,\n",
    "    Parameters={\n",
    "        'commands':[\n",
    "            \"cd /demo\",\n",
    "            \"./bin/sagemaker_edge_agent_client_example PredictAndCapture demo-keras keras.bmp input_1 224 224 3\"\n",
    "        ]\n",
    "    }\n",
    ")"
   ]
  },
  {
   "cell_type": "code",
   "execution_count": null,
   "metadata": {},
   "outputs": [],
   "source": [
    "ssm_client.get_command_invocation(\n",
    "    CommandId=keras_capture_out['Command']['CommandId'],\n",
    "    InstanceId=instance_id,\n",
    ")"
   ]
  },
  {
   "cell_type": "markdown",
   "metadata": {},
   "source": [
    "### Unload Model\n",
    "\n",
    "After unloading a model, the same name can be reused for future `LoadModel` APIs calls."
   ]
  },
  {
   "cell_type": "code",
   "execution_count": null,
   "metadata": {},
   "outputs": [],
   "source": [
    "unload_model_out = ssm_client.send_command(\n",
    "    InstanceIds=[instance_id],\n",
    "    DocumentName=\"AWS-RunShellScript\",\n",
    "    OutputS3BucketName=bucket,\n",
    "    OutputS3KeyPrefix=folder,\n",
    "    Parameters={\n",
    "        'commands':[\n",
    "            \"cd /demo\",\n",
    "            \"./bin/sagemaker_edge_agent_client_example UnloadModel demo-darknet\",\n",
    "            \"./bin/sagemaker_edge_agent_client_example UnloadModel demo-keras\"\n",
    "        ]\n",
    "    }\n",
    ")"
   ]
  },
  {
   "cell_type": "code",
   "execution_count": null,
   "metadata": {},
   "outputs": [],
   "source": [
    "ssm_client.get_command_invocation(\n",
    "    CommandId=unload_model_out['Command']['CommandId'],\n",
    "    InstanceId=instance_id,\n",
    ")"
   ]
  },
  {
   "cell_type": "markdown",
   "metadata": {},
   "source": [
    "## Clean Up"
   ]
  },
  {
   "cell_type": "markdown",
   "metadata": {},
   "source": [
    "Stop the Agent"
   ]
  },
  {
   "cell_type": "code",
   "execution_count": null,
   "metadata": {},
   "outputs": [],
   "source": [
    "ssm_client.cancel_command(\n",
    "    CommandId=agent_out['Command']['CommandId'],\n",
    "    InstanceIds=[instance_id]\n",
    ")"
   ]
  },
  {
   "cell_type": "markdown",
   "metadata": {},
   "source": [
    "Stop the EC2 instance"
   ]
  },
  {
   "cell_type": "code",
   "execution_count": null,
   "metadata": {},
   "outputs": [],
   "source": [
    "ec2_client.stop_instances(\n",
    "    InstanceIds=[instance_id]\n",
    ")"
   ]
  },
  {
   "cell_type": "markdown",
   "metadata": {},
   "source": [
    "## Appendix"
   ]
  },
  {
   "cell_type": "markdown",
   "metadata": {},
   "source": [
    "### (Optional)Install CloudWatch Agent "
   ]
  },
  {
   "cell_type": "code",
   "execution_count": null,
   "metadata": {},
   "outputs": [],
   "source": [
    "CW_log_config = {\n",
    "      \"agent\": {\n",
    "        \"metrics_collection_interval\": 10,\n",
    "        \"logfile\": \"/opt/aws/amazon-cloudwatch-agent/logs/amazon-cloudwatch-agent.log\"\n",
    "      },\n",
    "      \"logs\": {\n",
    "        \"logs_collected\": {\n",
    "          \"files\": {\n",
    "            \"collect_list\": [\n",
    "              {\n",
    "                \"file_path\": \"/opt/aws/amazon-cloudwatch-agent/logs/amazon-cloudwatch-agent.log\",\n",
    "                \"log_group_name\": \"amazon-cloudwatch-agent.log\",\n",
    "                \"log_stream_name\": \"amazon-cloudwatch-agent.log\",\n",
    "                \"timezone\": \"UTC\"\n",
    "              },\n",
    "              {\n",
    "                \"file_path\": \"/opt/aws/amazon-cloudwatch-agent/logs/test.log\",\n",
    "                \"log_group_name\": \"test.log\",\n",
    "                \"log_stream_name\": \"test.log\",\n",
    "                \"timezone\": \"Local\"\n",
    "              }\n",
    "            ]\n",
    "          }\n",
    "        },\n",
    "        \"log_stream_name\": \"my_log_stream_name\",\n",
    "        \"force_flush_interval\" : 15\n",
    "      }\n",
    "}"
   ]
  },
  {
   "cell_type": "code",
   "execution_count": null,
   "metadata": {},
   "outputs": [],
   "source": [
    "CW_file = open(\"cloudwatch.json\", \"w\") \n",
    "json.dump(CW_log_config, CW_file, indent = 6) \n",
    "CW_file.close() "
   ]
  },
  {
   "cell_type": "code",
   "execution_count": null,
   "metadata": {},
   "outputs": [],
   "source": [
    "CW_config_path = sess.upload_data('cloudwatch.json', bucket, iot_folder)"
   ]
  },
  {
   "cell_type": "code",
   "execution_count": null,
   "metadata": {},
   "outputs": [],
   "source": [
    "ssm_client.send_command(\n",
    "    InstanceIds=[instance_id],\n",
    "    DocumentName=\"AWS-RunShellScript\",\n",
    "    OutputS3BucketName=bucket,\n",
    "    OutputS3KeyPrefix=folder,\n",
    "    Parameters={\n",
    "        'commands':[\n",
    "            \"#!/bin/bash\",\n",
    "            \"aws s3 cp \" + CW_config_path + \" /opt/aws/amazon-cloudwatch-agent/etc/amazon-cloudwatch-agent.json\"\n",
    "        ]\n",
    "    }\n",
    ")"
   ]
  },
  {
   "cell_type": "code",
   "execution_count": null,
   "metadata": {},
   "outputs": [],
   "source": [
    "ssm_client.send_command(\n",
    "    InstanceIds=[instance_id],\n",
    "    DocumentName=\"AWS-RunShellScript\",\n",
    "    OutputS3BucketName=bucket,\n",
    "    OutputS3KeyPrefix=folder,\n",
    "    Parameters={\n",
    "        'commands':[\n",
    "            \"#!/bin/bash\",\n",
    "            \"wget https://s3.amazonaws.com/amazoncloudwatch-agent/ubuntu/amd64/latest/amazon-cloudwatch-agent.deb\",\n",
    "            \"sudo dpkg -i -E ./amazon-cloudwatch-agent.deb\",\n",
    "        ]\n",
    "    }\n",
    ")"
   ]
  },
  {
   "cell_type": "markdown",
   "metadata": {},
   "source": [
    "Install Cloud Watch Agent to SSM agent."
   ]
  },
  {
   "cell_type": "code",
   "execution_count": null,
   "metadata": {},
   "outputs": [],
   "source": [
    "ssm_client.send_command(\n",
    "    DocumentName=\"AWS-ConfigureAWSPackage\",\n",
    "    DocumentVersion='1',\n",
    "    OutputS3BucketName=bucket,\n",
    "    OutputS3KeyPrefix=folder,\n",
    "    Targets=[\n",
    "        {\n",
    "            'Key': 'InstanceIds',\n",
    "            'Values': [instance_id]\n",
    "        },\n",
    "    ],\n",
    "    TimeoutSeconds=600,\n",
    "    Parameters={\n",
    "        'action': ['Install'],\n",
    "        \"name\": [\"AmazonCloudWatchAgent\"]\n",
    "    },\n",
    "    MaxConcurrency='50',\n",
    "    MaxErrors='0'\n",
    ")"
   ]
  },
  {
   "cell_type": "markdown",
   "metadata": {},
   "source": [
    "To debug with CloudWatch, add a paramater `CloudWatchOutputConfig` to `send_command`\n",
    "```\n",
    "CloudWatchOutputConfig={\n",
    "    'CloudWatchOutputEnabled': True\n",
    "}\n",
    "```\n",
    "\n",
    "Example:\n",
    "```\n",
    "ssm_client.send_command(\n",
    "    InstanceIds=[instance_id],\n",
    "    DocumentName=\"AWS-RunShellScript\",\n",
    "    OutputS3BucketName=bucket,\n",
    "    OutputS3KeyPrefix=folder,\n",
    "    CloudWatchOutputConfig={\n",
    "        'CloudWatchOutputEnabled': True\n",
    "    },\n",
    "    Parameters={\n",
    "        'commands':[\n",
    "            \"cd /demo\",\n",
    "            \"./bin/neo_agent_binary -a /tmp/sagemaker_edge_agent_example.sock -c neo_config.json\" \n",
    "        ]\n",
    "    }\n",
    ")\n",
    "```\n",
    "\n",
    "Running log can be found in cloud watch log group `/aws/ssm/AWS-RunShellScript`"
   ]
  }
 ],
 "metadata": {
  "kernelspec": {
   "display_name": "conda_tensorflow_p36",
   "language": "python",
   "name": "conda_tensorflow_p36"
  },
  "language_info": {
   "codemirror_mode": {
    "name": "ipython",
    "version": 3
   },
   "file_extension": ".py",
   "mimetype": "text/x-python",
   "name": "python",
   "nbconvert_exporter": "python",
   "pygments_lexer": "ipython3",
   "version": "3.6.10"
  }
 },
 "nbformat": 4,
 "nbformat_minor": 4
}
